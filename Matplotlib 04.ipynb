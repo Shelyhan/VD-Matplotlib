{
 "cells": [
  {
   "cell_type": "markdown",
   "metadata": {},
   "source": [
    "![title](https://qph.fs.quoracdn.net/main-qimg-d13baac8e5fdf8e18954ac6d0bad09de)\n",
    "\n",
    "# #05: Bar Plot / Bar Chart\n",
    "\n",
    "- Cara membuat bar plot dengan Matplotlib."
   ]
  },
  {
   "cell_type": "markdown",
   "metadata": {},
   "source": [
    "## Import modules"
   ]
  },
  {
   "cell_type": "markdown",
   "metadata": {},
   "source": [
    "- `'%matplotlib inline'`untuk memanggil magic comment. Fungsinya untuk         meredirect hasil output dari matplotlib ke tampilan jupyer notebook di       halaman notebook yang sama\n",
    "- Kode di bawah ini untuk memberi tahu berapa versi matplotlib dan versi       numpy kalian"
   ]
  },
  {
   "cell_type": "code",
   "execution_count": 22,
   "metadata": {},
   "outputs": [],
   "source": [
    "%matplotlib inline"
   ]
  },
  {
   "cell_type": "code",
   "execution_count": 23,
   "metadata": {},
   "outputs": [
    {
     "name": "stdout",
     "output_type": "stream",
     "text": [
      "3.3.2\n",
      "1.19.2\n"
     ]
    }
   ],
   "source": [
    "import matplotlib\n",
    "import matplotlib.pyplot as plt\n",
    "import numpy as np\n",
    "\n",
    "print(matplotlib.__version__)\n",
    "print(np.__version__)"
   ]
  },
  {
   "cell_type": "markdown",
   "metadata": {},
   "source": [
    "## Simple Bar Plot"
   ]
  },
  {
   "cell_type": "markdown",
   "metadata": {},
   "source": [
    "- `plt.bar` akan membutuhkan setidaknya dua buah parameter\n",
    "- Parameter pertama umumnya akan bertipe data categorical, berfungsi untuk       mengatur kategori apa saja yang akan ditampilkan pada bar plot\n",
    "- Parameter kedua akan berisi sederet nilai yang akan berasolasi dengan setiap   item yang berada pada parameter pertama  \n",
    "- Perbedaan histogram dan bar plot \n",
    "- Histogram digunakan untuk melakukan blocking data yang bertipe numerik dan     sifatnya continuous\n",
    "- Bar plot umumnya digunakan untuk plotting data yang sifatnya categorical"
   ]
  },
  {
   "cell_type": "code",
   "execution_count": 24,
   "metadata": {},
   "outputs": [],
   "source": [
    "data = [25, 45, 55, 125, 225]\n",
    "kategori = ['A', 'B', 'C', 'D', 'E']"
   ]
  },
  {
   "cell_type": "code",
   "execution_count": 25,
   "metadata": {},
   "outputs": [
    {
     "data": {
      "image/png": "[encoded data removed]",
      "text/plain": [
       "<Figure size 432x288 with 1 Axes>"
      ]
     },
     "metadata": {
      "needs_background": "light"
     },
     "output_type": "display_data"
    }
   ],
   "source": [
    "plt.bar(kategori, data)\n",
    "plt.grid()\n",
    "\n",
    "plt.xlabel('Kategori')\n",
    "plt.ylabel('Jumlah')\n",
    "plt.title('Contoh Bar Plot')\n",
    "\n",
    "plt.show()"
   ]
  },
  {
   "cell_type": "markdown",
   "metadata": {},
   "source": [
    "## Pengaturan Grid dan Color"
   ]
  },
  {
   "cell_type": "markdown",
   "metadata": {},
   "source": [
    "- Parameter `color` digunakan untuk melakukan peraturan warna pada barnya\n",
    "- Parameter `alpha` digunakan untuk melakukan pengaturan transparansi "
   ]
  },
  {
   "cell_type": "code",
   "execution_count": 46,
   "metadata": {},
   "outputs": [],
   "source": [
    "data = [25, 45, 55, 125, 225]\n",
    "kategori = ['A', 'B', 'C', 'D', 'E']"
   ]
  },
  {
   "cell_type": "code",
   "execution_count": 49,
   "metadata": {},
   "outputs": [
    {
     "data": {
      "image/png": "[encoded data removed]",
      "text/plain": [
       "<Figure size 432x288 with 1 Axes>"
      ]
     },
     "metadata": {
      "needs_background": "light"
     },
     "output_type": "display_data"
    }
   ],
   "source": [
    "plt.bar(kategori,\n",
    "       data,\n",
    "       color='red',\n",
    "       alpha=0.75)\n",
    "\n",
    "plt.grid(linestyle='--',\n",
    "        linewidth=4,\n",
    "        axis='x', # pilihan: x, y, both # garis\n",
    "        alpha=0.25)\n",
    "\n",
    "plt.xlabel('Kategori')\n",
    "plt.ylabel('Jumlah')\n",
    "plt.title('Contoh Bar Plot')\n",
    "\n",
    "plt.show()"
   ]
  },
  {
   "cell_type": "markdown",
   "metadata": {},
   "source": [
    "## Horisontal Bar Plot"
   ]
  },
  {
   "cell_type": "markdown",
   "metadata": {},
   "source": [
    "- `plt.barh` memiliki fungsi untuk menghasilkan horisontal bar plot\n",
    "- Walaupun bar plot yang dihasilkan sekarang secara horisontal tetapi urutan     parameternya masih sama persis dengan memanggil vertical bar plot dan           perbedaannya hanya pada pemanggilan nama fungsinya saja"
   ]
  },
  {
   "cell_type": "code",
   "execution_count": 28,
   "metadata": {},
   "outputs": [],
   "source": [
    "data = [25, 45, 55, 125, 225]\n",
    "kategori = ['A', 'B', 'C', 'D', 'E']"
   ]
  },
  {
   "cell_type": "code",
   "execution_count": 50,
   "metadata": {},
   "outputs": [
    {
     "data": {
      "image/png": "[encoded data removed]",
      "text/plain": [
       "<Figure size 432x288 with 1 Axes>"
      ]
     },
     "metadata": {
      "needs_background": "light"
     },
     "output_type": "display_data"
    }
   ],
   "source": [
    "# plt.barh(kategori, data)\n",
    "plt.barh(kategori[::-1], data[::-1]) # untuk membalik urutan tapilan kategori\n",
    "\n",
    "plt.grid(linestyle='--',\n",
    "        linewidth=1,\n",
    "        axis='x', \n",
    "        alpha=0.75)\n",
    "\n",
    "plt.ylabel('Jumlah')\n",
    "plt.xlabel('Kategori')\n",
    "plt.title('Contoh Horisontal Bar Plot')\n",
    "\n",
    "plt.show()"
   ]
  },
  {
   "cell_type": "markdown",
   "metadata": {},
   "source": [
    "## Stacked Bar Plot"
   ]
  },
  {
   "cell_type": "markdown",
   "metadata": {},
   "source": [
    "- Memiliki 2 buah data\n",
    "- Stacked Bar Plot digunakan untuk melakukan plotting 2 data yang berbeda yang   memiliki kesamaan dalam hal pembagian kategori\n",
    "- Parameter `bottom` memiliki fungsi untuk mendefinisikan bahwa data 2 ini mau   di tempatkan di atas data yang mana"
   ]
  },
  {
   "cell_type": "code",
   "execution_count": 51,
   "metadata": {},
   "outputs": [],
   "source": [
    "data1 = [25, 85, 75, 40, 60] # warna biru\n",
    "data2 = [40, 35, 20, 55, 10] # warna orange\n",
    "kategori = ['A', 'B', 'C', 'D', 'E']"
   ]
  },
  {
   "cell_type": "code",
   "execution_count": 53,
   "metadata": {},
   "outputs": [
    {
     "data": {
      "image/png": "[encoded data removed]",
      "text/plain": [
       "<Figure size 432x288 with 1 Axes>"
      ]
     },
     "metadata": {
      "needs_background": "light"
     },
     "output_type": "display_data"
    }
   ],
   "source": [
    "plt.bar(kategori, data1, label='Data 1' )\n",
    "#plt.bar(kategori, data2, label='Data 2')\n",
    "plt.bar(kategori, data2, label='Data 2', bottom=data1)\n",
    "\n",
    "plt.legend()\n",
    "\n",
    "plt.grid(linestyle='--',\n",
    "        linewidth=1,\n",
    "        axis='y', \n",
    "        alpha=0.75)\n",
    "\n",
    "plt.xlabel('Kategori')\n",
    "plt.ylabel('Jumlah')\n",
    "plt.title('Contoh stacked Bar Plot')\n",
    "\n",
    "plt.show()\n"
   ]
  },
  {
   "cell_type": "markdown",
   "metadata": {},
   "source": [
    "## Grouped Bar Plot"
   ]
  },
  {
   "cell_type": "markdown",
   "metadata": {},
   "source": [
    "- Variabel `x` digunakan untuk menampung satu array yang dihasilkan dari         pemanggilan fungsi `np.arange`\n",
    "- Fungsi `np.arange` untuk menghasilkan suatu array yang akan memiliki suatu     deret bilangan dan deret bilangan yang dihasilkan akan ditentukan oleh nilai   yang ada di dalamn kategori\n",
    "- `(len(kategori))` akan menghasilkan panjang dari variabel kategori"
   ]
  },
  {
   "cell_type": "code",
   "execution_count": 32,
   "metadata": {},
   "outputs": [
    {
     "data": {
      "text/plain": [
       "array([0, 1, 2, 3, 4])"
      ]
     },
     "execution_count": 32,
     "metadata": {},
     "output_type": "execute_result"
    }
   ],
   "source": [
    "# menggunakan data yang sama\n",
    "data1 = [25, 85, 75, 40, 60]\n",
    "data2 = [40, 35, 20, 55, 10]\n",
    "kategori = ['A', 'B', 'C', 'D', 'E']\n",
    "\n",
    "x = np.arange(len(kategori))\n",
    "x"
   ]
  },
  {
   "cell_type": "code",
   "execution_count": 33,
   "metadata": {},
   "outputs": [
    {
     "data": {
      "image/png": "[encoded data removed]",
      "text/plain": [
       "<Figure size 432x288 with 1 Axes>"
      ]
     },
     "metadata": {
      "needs_background": "light"
     },
     "output_type": "display_data"
    }
   ],
   "source": [
    "widht = 0.35 \n",
    "# plotting\n",
    "plt.bar(x-widht/2, data1, widht, label='Data 1') # parameter pertama\n",
    "plt.bar(x+widht/2, data2, widht, label='Data 2') # parameter kedua\n",
    "\n",
    "plt.xticks(x, kategori) \n",
    "\n",
    "plt.grid(linestyle='--',\n",
    "        linewidth=1,\n",
    "        axis='y', \n",
    "        alpha=0.75)\n",
    "\n",
    "plt.xlabel('Kategori')\n",
    "plt.ylabel('Jumlah')\n",
    "plt.title('Contoh Grouped Bar Plot')\n",
    "\n",
    "plt.legend()\n",
    "plt.show()"
   ]
  },
  {
   "cell_type": "markdown",
   "metadata": {},
   "source": [
    "# #06: Pie Plot / Pie Chart\n",
    "\n",
    "- Cara membuat pie plot dengan Matplotlib"
   ]
  },
  {
   "cell_type": "markdown",
   "metadata": {},
   "source": [
    "## Import modules"
   ]
  },
  {
   "cell_type": "markdown",
   "metadata": {},
   "source": [
    "- `'%matplotlib inline'`untuk memanggil magic comment. Fungsinya untuk         meredirect hasil output dari matplotlib ke tampilan jupyer notebook di       halaman notebook yang sama\n",
    "- Kode di bawah ini untuk memberi tahu berapa versi matplotlib kalian"
   ]
  },
  {
   "cell_type": "code",
   "execution_count": 34,
   "metadata": {},
   "outputs": [],
   "source": [
    "%matplotlib inline"
   ]
  },
  {
   "cell_type": "code",
   "execution_count": 35,
   "metadata": {},
   "outputs": [
    {
     "name": "stdout",
     "output_type": "stream",
     "text": [
      "3.3.2\n"
     ]
    }
   ],
   "source": [
    "import matplotlib\n",
    "import matplotlib.pyplot as plt\n",
    "\n",
    "print(matplotlib.__version__)"
   ]
  },
  {
   "cell_type": "markdown",
   "metadata": {},
   "source": [
    "## Simple Pie Plot"
   ]
  },
  {
   "cell_type": "markdown",
   "metadata": {},
   "source": [
    "- Ada 2 variabel, yaitu variabel kategori dan variabel data\n",
    "- Variabel kategori akan menampung suatu list yang berisi sekumpulan karakter\n",
    "- Variabel data digunakan untuk menampung suatu list yang berisi sekumpulan       nilai integer\n",
    "- `plt.pie` memiliki fungsi untuk menghasilkan pie plot\n",
    "- `autopct` fungsinya untuk menampilkan persentase dari setiap area pada pie     plot\n",
    "- `startangle` digunakan untuk melakukan rotasi pada pie plotnya"
   ]
  },
  {
   "cell_type": "code",
   "execution_count": 36,
   "metadata": {},
   "outputs": [],
   "source": [
    "kategori = ['A', 'B', 'C', 'D', 'E']\n",
    "data = [215, 130, 245, 210, 225]"
   ]
  },
  {
   "cell_type": "code",
   "execution_count": 37,
   "metadata": {},
   "outputs": [
    {
     "data": {
      "image/png": "[encoded data removed]",
      "text/plain": [
       "<Figure size 432x288 with 1 Axes>"
      ]
     },
     "metadata": {},
     "output_type": "display_data"
    }
   ],
   "source": [
    "plt.pie(data,\n",
    "       labels=kategori,\n",
    "       autopct='%1.1f%%',\n",
    "       startangle=90)\n",
    "\n",
    "plt.title('Contoh Pie Plot')\n",
    "\n",
    "plt.show()"
   ]
  },
  {
   "cell_type": "markdown",
   "metadata": {},
   "source": [
    "## Pengaturan Legend dan Color "
   ]
  },
  {
   "cell_type": "markdown",
   "metadata": {},
   "source": [
    "- Ada 3 variabel, yaitu variabel kategori, variabel data, dan variabel warna\n",
    "- Pada variabel kategori akan menampung list dari kategori yang akan digunakan\n",
    "- Pada variabel data akan menampung list sekumpulan bilangan integer yang akan   berasosiasi dengan setiap kategori yang dimiliki\n",
    "- Pada variabel warna akan menampung list yang berisi data string dan setiap     nilai string akan mempresentasikan warna dari setiap kategori yang dimiliki\n",
    "- `#e03364` untuk mempresentasikan komposisi nilai red, green, dan blue"
   ]
  },
  {
   "cell_type": "code",
   "execution_count": 38,
   "metadata": {},
   "outputs": [],
   "source": [
    "kategori = ['A', 'B', 'C', 'D', 'E'] \n",
    "data = [215, 130, 245, 210, 225] \n",
    "warna = ['pink', 'cyan', '#e03364', 'yellowgreen', 'skyblue'] "
   ]
  },
  {
   "cell_type": "code",
   "execution_count": 39,
   "metadata": {},
   "outputs": [
    {
     "data": {
      "image/png": "[encoded data removed]",
      "text/plain": [
       "<Figure size 432x288 with 1 Axes>"
      ]
     },
     "metadata": {},
     "output_type": "display_data"
    }
   ],
   "source": [
    "plt.pie(data,\n",
    "       labels=kategori,\n",
    "       colors=warna,\n",
    "       autopct='%1.1f%%',\n",
    "       startangle=90)\n",
    "\n",
    "plt.legend()\n",
    "plt.title('Contoh Pie Plot')\n",
    "\n",
    "plt.show()"
   ]
  },
  {
   "cell_type": "markdown",
   "metadata": {},
   "source": [
    "## Exploded Pie Plot"
   ]
  },
  {
   "cell_type": "markdown",
   "metadata": {},
   "source": [
    "- Pada exploded pie plot ada beberapa bagian dari pie plot yang sengaja di       tarik keluar seperti meledak\n",
    "- Pada variabel explode_var akan berkorelasi dengan exploded pie plot dan akan   menampung sekumpulan nilai pecahan dimana setiap nilainya akan berkorelasi     dengan kategori\n",
    "- Untuk kategori yang tidak ingin diledakan pada explode_var akan diberi nilai   0.0"
   ]
  },
  {
   "cell_type": "code",
   "execution_count": 40,
   "metadata": {},
   "outputs": [],
   "source": [
    "kategori = ['A', 'B', 'C', 'D', 'E'] \n",
    "data = [215, 130, 245, 210, 225] \n",
    "warna = ['pink', 'cyan', '#e03364', 'yellowgreen', 'skyblue'] \n",
    "explode_var = [0., 0., 0.2, 0., 0.08]"
   ]
  },
  {
   "cell_type": "code",
   "execution_count": 41,
   "metadata": {},
   "outputs": [
    {
     "data": {
      "image/png": "[encoded data removed]",
      "text/plain": [
       "<Figure size 432x288 with 1 Axes>"
      ]
     },
     "metadata": {},
     "output_type": "display_data"
    }
   ],
   "source": [
    "plt.pie(data,\n",
    "       labels=kategori,\n",
    "       colors=warna,\n",
    "       explode=explode_var,\n",
    "       autopct='%1.1f%%',\n",
    "       startangle=90)\n",
    "\n",
    "plt.title('Contoh Exploded Pie Plot')\n",
    "\n",
    "plt.show()"
   ]
  },
  {
   "cell_type": "markdown",
   "metadata": {},
   "source": [
    "# #07: Table Plot / Table Chart\n",
    "\n",
    "- Cara membuat table plot dengan Matplotlib"
   ]
  },
  {
   "cell_type": "markdown",
   "metadata": {},
   "source": [
    "## Import modules"
   ]
  },
  {
   "cell_type": "markdown",
   "metadata": {},
   "source": [
    "- `'%matplotlib inline'`untuk memanggil magic comment. Fungsinya untuk         meredirect hasil output dari matplotlib ke tampilan jupyer notebook di       halaman notebook yang sama\n",
    "- Kode di bawah ini untuk memberi tahu berapa versi matplotlib dan versi       numpy kalian"
   ]
  },
  {
   "cell_type": "code",
   "execution_count": 1,
   "metadata": {},
   "outputs": [],
   "source": [
    "%matplotlib inline"
   ]
  },
  {
   "cell_type": "code",
   "execution_count": 2,
   "metadata": {},
   "outputs": [
    {
     "name": "stdout",
     "output_type": "stream",
     "text": [
      "3.3.2\n",
      "1.19.2\n"
     ]
    }
   ],
   "source": [
    "import matplotlib\n",
    "import matplotlib.pyplot as plt\n",
    "import numpy as np\n",
    "\n",
    "print(matplotlib.__version__)\n",
    "print(np.__version__)"
   ]
  },
  {
   "cell_type": "markdown",
   "metadata": {},
   "source": [
    "## Sample Data"
   ]
  },
  {
   "cell_type": "markdown",
   "metadata": {},
   "source": [
    "- Menggunakan sample data UAS "
   ]
  },
  {
   "cell_type": "code",
   "execution_count": 4,
   "metadata": {},
   "outputs": [],
   "source": [
    "data_uas=[\n",
    "    ['Bejo', 70],\n",
    "    ['Tejo', 83],\n",
    "    ['Cecep', 62],\n",
    "    ['Wati', 74],\n",
    "    ['Karti', 71]\n",
    "]"
   ]
  },
  {
   "cell_type": "code",
   "execution_count": 5,
   "metadata": {},
   "outputs": [
    {
     "data": {
      "text/plain": [
       "[['Bejo', 70], ['Tejo', 83], ['Cecep', 62], ['Wati', 74], ['Karti', 71]]"
      ]
     },
     "execution_count": 5,
     "metadata": {},
     "output_type": "execute_result"
    }
   ],
   "source": [
    "data_uas"
   ]
  },
  {
   "cell_type": "markdown",
   "metadata": {},
   "source": [
    "## Table Plot dengan OO Style"
   ]
  },
  {
   "cell_type": "markdown",
   "metadata": {},
   "source": [
    "- Membentuk table plot dari data di atas\n",
    "- Data tabular yang ditampilkan tidak dalam format data frame melainkan data     tabular ditampilkan dengan memanfaatkan figure dan axes\n",
    "- Fungsi `'plt.table'` untuk menghasilkan suatu table plot\n",
    "- `fontsize` merupakan attribute dari objek table\n",
    "- `table.scale` akan meminta dua buah parameter\n",
    "- parameter pertama akan berkaitan dengan ukuran kolom\n",
    "- parameter kedua akan berkaitan dengan ukuran baris"
   ]
  },
  {
   "cell_type": "code",
   "execution_count": 9,
   "metadata": {},
   "outputs": [
    {
     "data": {
      "image/png": "[encoded data removed]",
      "text/plain": [
       "<Figure size 432x288 with 1 Axes>"
      ]
     },
     "metadata": {
      "needs_background": "light"
     },
     "output_type": "display_data"
    }
   ],
   "source": [
    "fig, ax = plt.subplots()\n",
    "\n",
    "table = plt.table(cellText=data_uas,\n",
    "                 loc='center') # location\n",
    "\n",
    "table.set_fontsize(18)\n",
    "table.scale(1, 4) # ukuran kolom, baris\n",
    "\n",
    "ax.axis(False)\n",
    "\n",
    "plt.show()"
   ]
  },
  {
   "cell_type": "markdown",
   "metadata": {},
   "source": [
    "## Table Plot dengan pyplot Style"
   ]
  },
  {
   "cell_type": "markdown",
   "metadata": {},
   "source": [
    "- Membentuk tablet plot dari data di atas dengan pyplot style\n",
    "- Data plotting sama persis dengan data di atas tapi cara melakukan plottingnya   berbeda\n",
    "- Dengan menggunakan pyplot style maka tidak perlu mendeklarasikan figure dan     axes secara eksplisit\n",
    "- Fungsi `plt.gca` digunakan untuk mendapat axes yang saat ini sedang aktif\n",
    "- `gca` kependekkan dari get current axes "
   ]
  },
  {
   "cell_type": "code",
   "execution_count": 12,
   "metadata": {},
   "outputs": [
    {
     "data": {
      "image/png": "[encoded data removed]",
      "text/plain": [
       "<Figure size 432x288 with 1 Axes>"
      ]
     },
     "metadata": {
      "needs_background": "light"
     },
     "output_type": "display_data"
    }
   ],
   "source": [
    "table = plt.table(cellText=data_uas,\n",
    "                 loc='center')\n",
    "                  \n",
    "table.set_fontsize(14)\n",
    "table.scale(1, 4) # ukuran kolom, baris\n",
    "\n",
    "ax = plt.gca()\n",
    "ax.axis(False)\n",
    "\n",
    "plt.show()                  "
   ]
  }
 ],
 "metadata": {
  "hide_input": false,
  "kernelspec": {
   "display_name": "Python 3",
   "language": "python",
   "name": "python3"
  },
  "language_info": {
   "codemirror_mode": {
    "name": "ipython",
    "version": 3
   },
   "file_extension": ".py",
   "mimetype": "text/x-python",
   "name": "python",
   "nbconvert_exporter": "python",
   "pygments_lexer": "ipython3",
   "version": "3.8.5"
  }
 },
 "nbformat": 4,
 "nbformat_minor": 4
}
