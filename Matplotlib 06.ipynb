{
 "cells": [
  {
   "cell_type": "markdown",
   "metadata": {},
   "source": [
    "![title](https://qph.fs.quoracdn.net/main-qimg-d13baac8e5fdf8e18954ac6d0bad09de)\n",
    "\n",
    "# #10: Box Plot / Box Chart\n",
    "\n",
    "- Membuat Box Plot dengan Matplotlib"
   ]
  },
  {
   "cell_type": "markdown",
   "metadata": {},
   "source": [
    "## Import modules"
   ]
  },
  {
   "cell_type": "markdown",
   "metadata": {},
   "source": [
    "- `%matplotlib inline` untuk memanggil magic comment. Fungsinya untuk meredirect hasil output dari matplotlib ke tampilan jupyer   notebook di halaman notebook yang sama\n",
    "- Kode di bawah ini untuk memberi tahu berapa versi matplotlib dan numpy kalian"
   ]
  },
  {
   "cell_type": "code",
   "execution_count": 1,
   "metadata": {},
   "outputs": [],
   "source": [
    "%matplotlib inline"
   ]
  },
  {
   "cell_type": "code",
   "execution_count": 5,
   "metadata": {},
   "outputs": [
    {
     "name": "stdout",
     "output_type": "stream",
     "text": [
      "3.3.2\n",
      "1.19.2\n"
     ]
    }
   ],
   "source": [
    "import matplotlib\n",
    "import matplotlib.pyplot as plt\n",
    "import numpy as np\n",
    "\n",
    "print(matplotlib.__version__)\n",
    "print(np.__version__)"
   ]
  },
  {
   "cell_type": "markdown",
   "metadata": {},
   "source": [
    "##  Sample Dataset"
   ]
  },
  {
   "cell_type": "markdown",
   "metadata": {},
   "source": [
    "- Sample dataset di bawah memanfaatkan fungsi acak yang dimiliki oleh numpy\n",
    "- Parameter loc akan mendefinisikan titik tengah dari distribusi normal yang akan dibentuk\n",
    "- Parameter scale akan mengatur sebaran data atau akan setara dengan nilai standard deviationnya\n",
    "- Parameter size akan mengatur jumlah data point yang ingin dihasilkan"
   ]
  },
  {
   "cell_type": "code",
   "execution_count": 16,
   "metadata": {},
   "outputs": [
    {
     "data": {
      "text/plain": [
       "array([ 95.83242153,  99.43733173,  78.63803904, 116.40270808,\n",
       "        82.06564415,  91.58252634, 105.02881417,  87.54711913,\n",
       "        89.42047781,  90.90992385, 105.51454045, 122.92208013,\n",
       "       100.41539393,  88.82074555, 105.39058321,  94.038403  ,\n",
       "        99.80869503, 111.7500122 ,  92.52129051, 100.09025251,\n",
       "        91.21892107,  98.4356583 , 102.56570452,  90.11220951,\n",
       "        96.61178034,  97.63815969,  93.62344988,  88.12387714,\n",
       "        85.78782773,  98.46504804,  97.3094304 , 122.31366789,\n",
       "        75.65232423, 101.12726505, 103.70444537, 113.59633863,\n",
       "       105.01857207,  91.55786296, 100.00009761, 105.42352572,\n",
       "        96.86491803, 107.71011738,  81.31909345, 117.31184666,\n",
       "       114.67678011,  96.64322661, 106.1134078 , 100.47970592,\n",
       "        91.70864711, 100.87710218, 110.00365887,  96.18907482,\n",
       "        96.24330577,  99.25529237, 104.3349633 , 112.7837923 ,\n",
       "        93.65320695, 105.08396243, 102.16116006,  81.41387614,\n",
       "        95.80683518,  98.67671102,  99.6042976 , 103.26003433,\n",
       "        79.59676951, 100.46255523,  93.22324423,  85.60560973,\n",
       "       105.2429643 , 107.35279576,  93.46749732, 108.42456282,\n",
       "        96.18483518, 100.66489009,  89.01261053, 115.84487056,\n",
       "        73.40550544,  99.08547377, 106.95119605,  79.66533454,\n",
       "        98.10530735,  99.22781335, 108.24703005, 112.48212921,\n",
       "        95.96107731,  86.15481333, 113.67235424, 112.17885633,\n",
       "        95.37994652, 103.50888494, 103.81866234, 105.66275441,\n",
       "       102.04207979, 114.06696242,  82.62040496, 110.40823953,\n",
       "       103.8047197 ,  97.82864731, 111.73531498,  76.56396809,\n",
       "       111.61521491, 103.86078048,  88.66866726, 104.33092555,\n",
       "        96.95913561, 125.85294868, 118.35332723, 104.40689872,\n",
       "        92.80746159,  94.16585405,  96.74950372,  94.39765494,\n",
       "        90.97753932,  94.09027725,  97.23820508,  94.83116106,\n",
       "        93.0141005 ,  90.71108075, 125.50438236,  85.26826752,\n",
       "        89.78585269, 104.32395701,  96.7641993 , 104.23824708,\n",
       "       107.99179995, 112.62613663, 107.51964849,  90.06239017,\n",
       "       111.09143281,  82.35082272,  98.85578703,  95.01825806,\n",
       "        89.39200964, 105.91666521,  98.16743426, 110.19854729,\n",
       "        85.17534522, 108.46311892, 104.97940148, 101.26504175,\n",
       "        85.81189449,  97.48225882,  84.53325389,  79.17348064,\n",
       "       132.79745401, 109.7086132 , 117.92592852,  95.70986681,\n",
       "       106.9619798 , 106.97416272, 106.01515814, 100.03659491,\n",
       "        97.71752442,  79.30387737, 106.10144086, 104.234969  ,\n",
       "       111.17886733,  97.25757911, 117.41812188,  95.52499124,\n",
       "        87.44572782, 109.38163671,  95.3165374 ,  87.45279693,\n",
       "       101.24823646, 107.56502143, 102.41439629, 104.97425649,\n",
       "       141.08692624, 108.21120877, 115.31760316,  80.14154226,\n",
       "       103.65053516, 107.74082033,  96.35520908,  91.24020522,\n",
       "       103.96520159,  96.85382564,  94.06244417, 111.49500568,\n",
       "       113.35566168, 103.02629336,  95.45772145, 105.14370717,\n",
       "       108.29458431, 106.30621967,  85.4663565 ,  96.61982223,\n",
       "       103.59133332, 106.22220414, 109.60781945, 107.58370347,\n",
       "        88.65681517,  92.92579112,  87.78570835, 118.04476642,\n",
       "       101.80409807, 105.53164274, 110.33029066,  96.70997565])"
      ]
     },
     "execution_count": 16,
     "metadata": {},
     "output_type": "execute_result"
    }
   ],
   "source": [
    "np.random.seed(2)\n",
    "data = np.random.normal(loc=100, scale=10, size=200)\n",
    "data"
   ]
  },
  {
   "cell_type": "markdown",
   "metadata": {},
   "source": [
    "## Simple Box Plot"
   ]
  },
  {
   "cell_type": "markdown",
   "metadata": {},
   "source": [
    "- Membentuk visualisasi data sederhana dengan menggunakan box plot"
   ]
  },
  {
   "cell_type": "code",
   "execution_count": 17,
   "metadata": {},
   "outputs": [
    {
     "data": {
      "image/png": "[encoded data removed]",
      "text/plain": [
       "<Figure size 432x288 with 1 Axes>"
      ]
     },
     "metadata": {
      "needs_background": "light"
     },
     "output_type": "display_data"
    }
   ],
   "source": [
    "plt.boxplot(data, labels=['Data']) # membentuk box plot\n",
    "\n",
    "plt.title('Simple Box Plot')\n",
    "plt.xlabel('Sumbu X')\n",
    "plt.ylabel('Sumbu Y')\n",
    "\n",
    "plt.grid()\n",
    "\n",
    "plt.show()"
   ]
  },
  {
   "cell_type": "markdown",
   "metadata": {},
   "source": [
    "## Notched Box Plot"
   ]
  },
  {
   "cell_type": "code",
   "execution_count": 18,
   "metadata": {},
   "outputs": [
    {
     "data": {
      "image/png": "[encoded data removed]",
      "text/plain": [
       "<Figure size 432x288 with 1 Axes>"
      ]
     },
     "metadata": {
      "needs_background": "light"
     },
     "output_type": "display_data"
    }
   ],
   "source": [
    "plt.boxplot(data, labels=['Data'], notch=True) \n",
    "\n",
    "plt.title('Notched Box Plot')\n",
    "plt.xlabel('Sumbu X')\n",
    "plt.ylabel('Sumbu Y')\n",
    "\n",
    "plt.show()"
   ]
  },
  {
   "cell_type": "markdown",
   "metadata": {},
   "source": [
    "## Pengaturan marker untuk outlier"
   ]
  },
  {
   "cell_type": "markdown",
   "metadata": {},
   "source": [
    "- Marker outlier pada box plot matplotlib dikenal juga dengan `flierprops`\n",
    "- `showfliers` fungsinya untuk memunculkan outlier, jika outlier ingin dihide parameter diganti menjadi False"
   ]
  },
  {
   "cell_type": "code",
   "execution_count": 9,
   "metadata": {},
   "outputs": [
    {
     "data": {
      "image/png": "[encoded data removed]",
      "text/plain": [
       "<Figure size 432x288 with 1 Axes>"
      ]
     },
     "metadata": {
      "needs_background": "light"
     },
     "output_type": "display_data"
    }
   ],
   "source": [
    "plt.boxplot(data, \n",
    "            labels=['Data'],\n",
    "            showfliers=True,\n",
    "            flierprops={'markerfacecolor':'r', 'marker':'d'})\n",
    "\n",
    "plt.title('Pengaturan Marker')\n",
    "plt.xlabel('Sumbu X')\n",
    "plt.ylabel('Sumbu Y')\n",
    "\n",
    "plt.show()"
   ]
  },
  {
   "cell_type": "markdown",
   "metadata": {},
   "source": [
    "## Horisontal Box Plot"
   ]
  },
  {
   "cell_type": "markdown",
   "metadata": {},
   "source": [
    "- Box Plot ditampilkan secara horisontal, untuk membentuk box plot horisontal bisa menggunakan parameter `vert` yang nilainya False"
   ]
  },
  {
   "cell_type": "code",
   "execution_count": 19,
   "metadata": {},
   "outputs": [
    {
     "data": {
      "image/png": "[encoded data removed]",
      "text/plain": [
       "<Figure size 432x288 with 1 Axes>"
      ]
     },
     "metadata": {
      "needs_background": "light"
     },
     "output_type": "display_data"
    }
   ],
   "source": [
    "plt.boxplot(data, labels=['Data'], vert=False) \n",
    "\n",
    "plt.title('Horisontal Box Plot')\n",
    "plt.xlabel('Sumbu X')\n",
    "plt.ylabel('Sumbu Y')\n",
    "\n",
    "plt.show()"
   ]
  },
  {
   "cell_type": "markdown",
   "metadata": {},
   "source": [
    "## Multiple Box Plot"
   ]
  },
  {
   "cell_type": "markdown",
   "metadata": {},
   "source": [
    "- Varibel di bawah akan menampung sekumpulan bilangan acak yang akan membentuk distribusi normal"
   ]
  },
  {
   "cell_type": "code",
   "execution_count": 20,
   "metadata": {},
   "outputs": [],
   "source": [
    "np.random.seed(10)\n",
    "data1 = np.random.normal(100, 10, 200)\n",
    "data2 = np.random.normal(80, 30, 200)\n",
    "data3 = np.random.normal(90, 20, 200)\n",
    "data4 = np.random.normal(70, 25, 200)\n",
    "\n",
    "data = [data1, data2, data3, data4]\n",
    "labels = ['Data 1', 'Data 2', 'Data 3', 'Data 4']"
   ]
  },
  {
   "cell_type": "code",
   "execution_count": 21,
   "metadata": {},
   "outputs": [
    {
     "data": {
      "image/png": "[encoded data removed]",
      "text/plain": [
       "<Figure size 432x288 with 1 Axes>"
      ]
     },
     "metadata": {
      "needs_background": "light"
     },
     "output_type": "display_data"
    }
   ],
   "source": [
    "plt.boxplot(data, labels=labels) \n",
    "\n",
    "plt.title('Multiple Box Plot')\n",
    "plt.xlabel('Sumbu X')\n",
    "plt.ylabel('Sumbu Y')\n",
    "\n",
    "plt.show()"
   ]
  },
  {
   "cell_type": "markdown",
   "metadata": {},
   "source": [
    "# #11: Violin Plot / Violin Chart"
   ]
  },
  {
   "cell_type": "markdown",
   "metadata": {},
   "source": [
    "## Import modules"
   ]
  },
  {
   "cell_type": "markdown",
   "metadata": {},
   "source": [
    "- `%matplotlib inline` untuk memanggil magic comment. Fungsinya untuk meredirect hasil output dari matplotlib ke tampilan jupyer   notebook di halaman notebook yang sama\n",
    "- Kode di bawah ini untuk memberi tahu berapa versi matplotlib dan numpy kalian"
   ]
  },
  {
   "cell_type": "code",
   "execution_count": 14,
   "metadata": {},
   "outputs": [],
   "source": [
    "%matplotlib inline"
   ]
  },
  {
   "cell_type": "code",
   "execution_count": 15,
   "metadata": {},
   "outputs": [
    {
     "name": "stdout",
     "output_type": "stream",
     "text": [
      "3.3.2\n",
      "1.19.2\n"
     ]
    }
   ],
   "source": [
    "import matplotlib\n",
    "import matplotlib.pyplot as plt\n",
    "import numpy as np\n",
    "\n",
    "print(matplotlib.__version__)\n",
    "print(np.__version__)"
   ]
  },
  {
   "cell_type": "markdown",
   "metadata": {},
   "source": [
    "##  Sample Dataset"
   ]
  },
  {
   "cell_type": "markdown",
   "metadata": {},
   "source": [
    "- Sample dataset di bawah memanfaatkan fungsi acak yang dimiliki oleh numpy\n",
    "- Parameter loc akan mendefinisikan titik tengah dari distribusi normal yang akan dibentuk\n",
    "- Parameter scale akan mengatur sebaran data atau akan setara dengan nilai standard deviationnya\n",
    "- Parameter size akan mengatur jumlah data point yang ingin dihasilkan"
   ]
  },
  {
   "cell_type": "code",
   "execution_count": 22,
   "metadata": {},
   "outputs": [
    {
     "data": {
      "text/plain": [
       "array([ 95.83242153,  99.43733173,  78.63803904, 116.40270808,\n",
       "        82.06564415,  91.58252634, 105.02881417,  87.54711913,\n",
       "        89.42047781,  90.90992385, 105.51454045, 122.92208013,\n",
       "       100.41539393,  88.82074555, 105.39058321,  94.038403  ,\n",
       "        99.80869503, 111.7500122 ,  92.52129051, 100.09025251,\n",
       "        91.21892107,  98.4356583 , 102.56570452,  90.11220951,\n",
       "        96.61178034,  97.63815969,  93.62344988,  88.12387714,\n",
       "        85.78782773,  98.46504804,  97.3094304 , 122.31366789,\n",
       "        75.65232423, 101.12726505, 103.70444537, 113.59633863,\n",
       "       105.01857207,  91.55786296, 100.00009761, 105.42352572,\n",
       "        96.86491803, 107.71011738,  81.31909345, 117.31184666,\n",
       "       114.67678011,  96.64322661, 106.1134078 , 100.47970592,\n",
       "        91.70864711, 100.87710218, 110.00365887,  96.18907482,\n",
       "        96.24330577,  99.25529237, 104.3349633 , 112.7837923 ,\n",
       "        93.65320695, 105.08396243, 102.16116006,  81.41387614,\n",
       "        95.80683518,  98.67671102,  99.6042976 , 103.26003433,\n",
       "        79.59676951, 100.46255523,  93.22324423,  85.60560973,\n",
       "       105.2429643 , 107.35279576,  93.46749732, 108.42456282,\n",
       "        96.18483518, 100.66489009,  89.01261053, 115.84487056,\n",
       "        73.40550544,  99.08547377, 106.95119605,  79.66533454,\n",
       "        98.10530735,  99.22781335, 108.24703005, 112.48212921,\n",
       "        95.96107731,  86.15481333, 113.67235424, 112.17885633,\n",
       "        95.37994652, 103.50888494, 103.81866234, 105.66275441,\n",
       "       102.04207979, 114.06696242,  82.62040496, 110.40823953,\n",
       "       103.8047197 ,  97.82864731, 111.73531498,  76.56396809,\n",
       "       111.61521491, 103.86078048,  88.66866726, 104.33092555,\n",
       "        96.95913561, 125.85294868, 118.35332723, 104.40689872,\n",
       "        92.80746159,  94.16585405,  96.74950372,  94.39765494,\n",
       "        90.97753932,  94.09027725,  97.23820508,  94.83116106,\n",
       "        93.0141005 ,  90.71108075, 125.50438236,  85.26826752,\n",
       "        89.78585269, 104.32395701,  96.7641993 , 104.23824708,\n",
       "       107.99179995, 112.62613663, 107.51964849,  90.06239017,\n",
       "       111.09143281,  82.35082272,  98.85578703,  95.01825806,\n",
       "        89.39200964, 105.91666521,  98.16743426, 110.19854729,\n",
       "        85.17534522, 108.46311892, 104.97940148, 101.26504175,\n",
       "        85.81189449,  97.48225882,  84.53325389,  79.17348064,\n",
       "       132.79745401, 109.7086132 , 117.92592852,  95.70986681,\n",
       "       106.9619798 , 106.97416272, 106.01515814, 100.03659491,\n",
       "        97.71752442,  79.30387737, 106.10144086, 104.234969  ,\n",
       "       111.17886733,  97.25757911, 117.41812188,  95.52499124,\n",
       "        87.44572782, 109.38163671,  95.3165374 ,  87.45279693,\n",
       "       101.24823646, 107.56502143, 102.41439629, 104.97425649,\n",
       "       141.08692624, 108.21120877, 115.31760316,  80.14154226,\n",
       "       103.65053516, 107.74082033,  96.35520908,  91.24020522,\n",
       "       103.96520159,  96.85382564,  94.06244417, 111.49500568,\n",
       "       113.35566168, 103.02629336,  95.45772145, 105.14370717,\n",
       "       108.29458431, 106.30621967,  85.4663565 ,  96.61982223,\n",
       "       103.59133332, 106.22220414, 109.60781945, 107.58370347,\n",
       "        88.65681517,  92.92579112,  87.78570835, 118.04476642,\n",
       "       101.80409807, 105.53164274, 110.33029066,  96.70997565])"
      ]
     },
     "execution_count": 22,
     "metadata": {},
     "output_type": "execute_result"
    }
   ],
   "source": [
    "np.random.seed(2)\n",
    "data = np.random.normal(loc=100, scale=10, size=200)\n",
    "data"
   ]
  },
  {
   "cell_type": "markdown",
   "metadata": {},
   "source": [
    "## Simple Violin Plot"
   ]
  },
  {
   "cell_type": "markdown",
   "metadata": {},
   "source": [
    "- Menghasilkan violin plot dengan bentuk yang paling sederhana\n",
    "- `violinplot()` untuk membentuk violin plot dari suatu dataset\n",
    "- Violin plot sedikit berbeda dengan box plot, garis pada violin plot mengindikasikan nilai terbesar dan nilai terkecil dari dataset yang dimiliki"
   ]
  },
  {
   "cell_type": "code",
   "execution_count": 23,
   "metadata": {},
   "outputs": [
    {
     "data": {
      "image/png": "[encoded data removed]",
      "text/plain": [
       "<Figure size 432x288 with 1 Axes>"
      ]
     },
     "metadata": {
      "needs_background": "light"
     },
     "output_type": "display_data"
    }
   ],
   "source": [
    "plt.violinplot(data) # membentuk Violin plot\n",
    "\n",
    "plt.title('Simple Violin Plot')\n",
    "plt.xlabel('Sumbu X')\n",
    "plt.ylabel('Sumbu Y')\n",
    "\n",
    "plt.show()"
   ]
  },
  {
   "cell_type": "markdown",
   "metadata": {},
   "source": [
    "## Pengaturan pada Violin Plot"
   ]
  },
  {
   "cell_type": "markdown",
   "metadata": {},
   "source": [
    "- `showextrema` digunakan untuk menampilkan garis tengah serta garis yang mengindikasikan nilai minimum dan maximum dari dataset \n",
    "- `showmeans`   digunakan untuk memunculkan indikator untuk nilai means\n",
    "- `showmedians` digunakan untuk memunculkan indikator untuk nilai medians"
   ]
  },
  {
   "cell_type": "code",
   "execution_count": 25,
   "metadata": {},
   "outputs": [
    {
     "data": {
      "image/png": "[encoded data removed]",
      "text/plain": [
       "<Figure size 432x288 with 1 Axes>"
      ]
     },
     "metadata": {
      "needs_background": "light"
     },
     "output_type": "display_data"
    }
   ],
   "source": [
    "plt.violinplot(data, \n",
    "               showextrema=False,\n",
    "               showmeans=False, \n",
    "               showmedians=False,  \n",
    "               quantiles=None) \n",
    "\n",
    "plt.title('Violin Plot')\n",
    "plt.xlabel('Sumbu X')\n",
    "plt.ylabel('Sumbu Y')\n",
    "\n",
    "plt.show()"
   ]
  },
  {
   "cell_type": "markdown",
   "metadata": {},
   "source": [
    "## Horisontal Violin Plot"
   ]
  },
  {
   "cell_type": "markdown",
   "metadata": {},
   "source": [
    "- Violin Plot ditampilkan secara horisontal, untuk membentuk violin plot horisontal bisa menggunakan parameter `vert` yang nilainya False"
   ]
  },
  {
   "cell_type": "code",
   "execution_count": 26,
   "metadata": {},
   "outputs": [
    {
     "data": {
      "image/png": "[encoded data removed]",
      "text/plain": [
       "<Figure size 432x288 with 1 Axes>"
      ]
     },
     "metadata": {
      "needs_background": "light"
     },
     "output_type": "display_data"
    }
   ],
   "source": [
    "plt.violinplot(data, vert=False) \n",
    "\n",
    "plt.title('Horisontal Violin Plot')\n",
    "plt.xlabel('Sumbu X')\n",
    "plt.ylabel('Sumbu Y')\n",
    "\n",
    "plt.show()"
   ]
  },
  {
   "cell_type": "markdown",
   "metadata": {},
   "source": [
    "## Multiple Violin Plot"
   ]
  },
  {
   "cell_type": "code",
   "execution_count": 27,
   "metadata": {},
   "outputs": [],
   "source": [
    "np.random.seed(10)\n",
    "data1 = np.random.normal(100, 10, 200)\n",
    "data2 = np.random.normal(80, 30, 200)\n",
    "data3 = np.random.normal(90, 20, 200)\n",
    "data4 = np.random.normal(70, 25, 200)\n",
    "\n",
    "data = [data1, data2, data3, data4]"
   ]
  },
  {
   "cell_type": "code",
   "execution_count": 28,
   "metadata": {},
   "outputs": [
    {
     "data": {
      "image/png": "[encoded data removed]",
      "text/plain": [
       "<Figure size 432x288 with 1 Axes>"
      ]
     },
     "metadata": {
      "needs_background": "light"
     },
     "output_type": "display_data"
    }
   ],
   "source": [
    "plt.violinplot(data) \n",
    "\n",
    "plt.title('Multiple Violin Plot')\n",
    "plt.xlabel('Sumbu X')\n",
    "plt.ylabel('Sumbu Y')\n",
    "\n",
    "plt.show()"
   ]
  },
  {
   "cell_type": "markdown",
   "metadata": {},
   "source": [
    "# #12: Twin Axes"
   ]
  },
  {
   "cell_type": "markdown",
   "metadata": {},
   "source": [
    "## Import modules"
   ]
  },
  {
   "cell_type": "markdown",
   "metadata": {},
   "source": [
    "- `%matplotlib inline` untuk memanggil magic comment. Fungsinya untuk meredirect hasil output dari matplotlib ke tampilan jupyer   notebook di halaman notebook yang sama\n",
    "- Kode di bawah ini untuk memberi tahu berapa versi matplotlib dan numpy kalian"
   ]
  },
  {
   "cell_type": "code",
   "execution_count": 29,
   "metadata": {},
   "outputs": [],
   "source": [
    "%matplotlib inline"
   ]
  },
  {
   "cell_type": "code",
   "execution_count": 30,
   "metadata": {},
   "outputs": [
    {
     "name": "stdout",
     "output_type": "stream",
     "text": [
      "3.3.2\n",
      "1.19.2\n"
     ]
    }
   ],
   "source": [
    "import matplotlib\n",
    "import matplotlib.pyplot as plt\n",
    "import numpy as np\n",
    "\n",
    "print(matplotlib.__version__)\n",
    "print(np.__version__)"
   ]
  },
  {
   "cell_type": "markdown",
   "metadata": {},
   "source": [
    "## Kasus Twin Axes 1"
   ]
  },
  {
   "cell_type": "markdown",
   "metadata": {},
   "source": [
    "- Dataset dibentuk dengan memanfaatkan fungsi `np.linspace()`\n",
    "- Pemanggilan fungsi `np.linspace()` akan menyertakan 3 buah parameter\n",
    "- Dua parameter tersebut akan menentukan nilai terkecil dan nilai terbesar yang akan dibentuk dari pemanggilan fungsi `linspace()`\n",
    "- Parameter ketiga untuk menentukan jumlah data point yang akan dihasilkan dari fungsi `linspace()`"
   ]
  },
  {
   "cell_type": "code",
   "execution_count": 31,
   "metadata": {},
   "outputs": [
    {
     "data": {
      "text/plain": [
       "array([ 1.   ,  1.375,  1.75 ,  2.125,  2.5  ,  2.875,  3.25 ,  3.625,\n",
       "        4.   ,  4.375,  4.75 ,  5.125,  5.5  ,  5.875,  6.25 ,  6.625,\n",
       "        7.   ,  7.375,  7.75 ,  8.125,  8.5  ,  8.875,  9.25 ,  9.625,\n",
       "       10.   ])"
      ]
     },
     "execution_count": 31,
     "metadata": {},
     "output_type": "execute_result"
    }
   ],
   "source": [
    "x = np.linspace(1, 10, 25)\n",
    "x"
   ]
  },
  {
   "cell_type": "markdown",
   "metadata": {},
   "source": [
    "- Plotting di bawah menggunakan OO Style\n",
    "- Fungsi `twinx()` untuk menghasilkan axes baru yang akan ditempatkan di atas axes pertama "
   ]
  },
  {
   "cell_type": "code",
   "execution_count": 33,
   "metadata": {},
   "outputs": [
    {
     "data": {
      "image/png": "[encoded data removed]",
      "text/plain": [
       "<Figure size 432x288 with 2 Axes>"
      ]
     },
     "metadata": {
      "needs_background": "light"
     },
     "output_type": "display_data"
    }
   ],
   "source": [
    "fig, ax1 = plt.subplots()\n",
    "\n",
    "ax1.plot(x, np.exp(x), 'bs-', label='exp')\n",
    "ax1.set_xlabel('Sumbu X')\n",
    "ax1.set_ylabel('exp')\n",
    "\n",
    "ax2 = ax1.twinx()\n",
    "ax2.plot(x, np.log(x), 'ro-', label='log')\n",
    "ax2.set_ylabel('log')\n",
    "\n",
    "fig.suptitle('Contoh Twin Axes')\n",
    "fig.legend(loc='upper left')\n",
    "\n",
    "plt.show()"
   ]
  },
  {
   "cell_type": "markdown",
   "metadata": {},
   "source": [
    "## Kasus Twin Axes 2"
   ]
  },
  {
   "cell_type": "markdown",
   "metadata": {},
   "source": [
    "- Fungsi `np.random.randint` akan menghasilkan sederet bilangan bulat atau integer secara acak"
   ]
  },
  {
   "cell_type": "code",
   "execution_count": 34,
   "metadata": {},
   "outputs": [
    {
     "data": {
      "text/plain": [
       "array([23, 22, 22, 23, 37, 27, 33, 29, 31, 25, 36, 18, 22, 21, 30, 38, 30,\n",
       "       18, 35, 39, 25, 38, 30, 26, 21, 23, 20, 23, 27, 25])"
      ]
     },
     "execution_count": 34,
     "metadata": {},
     "output_type": "execute_result"
    }
   ],
   "source": [
    "x = np.random.randint(16, 40, size=30)\n",
    "x"
   ]
  },
  {
   "cell_type": "markdown",
   "metadata": {},
   "source": [
    "- Fungsi `C2F` akan menerima sebuah nilai dalam derajat celcius dan nilai tersebut akan dikonversikan menjadi fahrenheit\n",
    "- Fungsi `konversi_sumbu` untuk melakukan konversi matrix dari sumbu Y yang pertama ke sumbu Y kedua\n",
    "- Variabel y1 akan menampung nilai sumbu Y terkecil dari axes pertama\n",
    "- Variabel y2 akan menampung nilai sumbu Y terbesar dari axes pertama"
   ]
  },
  {
   "cell_type": "code",
   "execution_count": 35,
   "metadata": {},
   "outputs": [
    {
     "data": {
      "image/png": "[encoded data removed]",
      "text/plain": [
       "<Figure size 432x288 with 2 Axes>"
      ]
     },
     "metadata": {
      "needs_background": "light"
     },
     "output_type": "display_data"
    }
   ],
   "source": [
    "def C2F(celcius=0):\n",
    "    return (celcius * 1.8) + 32\n",
    "\n",
    "def konversi_sumbu(ax1):\n",
    "    y1, y2 = ax1.get_ylim() \n",
    "    ax2.set_ylim(C2F(y1), C2F(y2))\n",
    "    ax2.figure.canvas.draw()\n",
    "    \n",
    "fig, ax1 = plt.subplots()\n",
    "ax2 = ax1.twinx()\n",
    "\n",
    "ax1.callbacks.connect('ylim_changed', konversi_sumbu)\n",
    "ax1.plot(x) #plotting pada data x\n",
    "\n",
    "ax1.set_xlabel('Hari')\n",
    "ax1.set_ylabel('Celcius')\n",
    "ax2.set_ylabel('Fahrenheit')\n",
    "\n",
    "fig.suptitle('Temperatur Udara')\n",
    "plt.show()"
   ]
  }
 ],
 "metadata": {
  "hide_input": false,
  "kernelspec": {
   "display_name": "Python 3",
   "language": "python",
   "name": "python3"
  },
  "language_info": {
   "codemirror_mode": {
    "name": "ipython",
    "version": 3
   },
   "file_extension": ".py",
   "mimetype": "text/x-python",
   "name": "python",
   "nbconvert_exporter": "python",
   "pygments_lexer": "ipython3",
   "version": "3.8.5"
  }
 },
 "nbformat": 4,
 "nbformat_minor": 4
}
